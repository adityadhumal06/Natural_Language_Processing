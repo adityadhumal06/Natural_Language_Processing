{
  "nbformat": 4,
  "nbformat_minor": 0,
  "metadata": {
    "colab": {
      "provenance": [],
      "authorship_tag": "ABX9TyMTcsKezdBkYnKcrj3RlXc7",
      "include_colab_link": true
    },
    "kernelspec": {
      "name": "python3",
      "display_name": "Python 3"
    },
    "language_info": {
      "name": "python"
    }
  },
  "cells": [
    {
      "cell_type": "markdown",
      "metadata": {
        "id": "view-in-github",
        "colab_type": "text"
      },
      "source": [
        "<a href=\"https://colab.research.google.com/github/adityadhumal06/Natural_Language_Processing/blob/main/Stemming_%26_Lemmatization.ipynb\" target=\"_parent\"><img src=\"https://colab.research.google.com/assets/colab-badge.svg\" alt=\"Open In Colab\"/></a>"
      ]
    },
    {
      "cell_type": "code",
      "execution_count": 1,
      "metadata": {
        "id": "wU7WPHDi_XHT"
      },
      "outputs": [],
      "source": [
        "# Stemming ---> Use fixed rules such as remove able, ing etc. to derive a base word.\n",
        "\n",
        "# For example\n",
        "# talking ---> talk\n",
        "# coming  ---> come\n",
        "# eating ---> eat\n",
        "# adjustable ---> adjust"
      ]
    },
    {
      "cell_type": "code",
      "source": [
        "# Lemmatization ---> Use knowledge of a language (a.k.a. linguistics knowledge) to derive a base word\n",
        "# For example\n",
        "# ability ---> ability"
      ],
      "metadata": {
        "id": "PO6DW5qUA0m8"
      },
      "execution_count": 2,
      "outputs": []
    },
    {
      "cell_type": "code",
      "source": [
        "import nltk\n",
        "import spacy"
      ],
      "metadata": {
        "id": "lkuYtUk6BbEk"
      },
      "execution_count": 3,
      "outputs": []
    },
    {
      "cell_type": "code",
      "source": [
        "from nltk.stem import PorterStemmer\n",
        "stemmer = PorterStemmer()\n"
      ],
      "metadata": {
        "id": "7T1ZFfSACc3z"
      },
      "execution_count": 4,
      "outputs": []
    },
    {
      "cell_type": "code",
      "source": [
        "words = ['eating','eats','eat','ate','adjustable','rafing','ability','meeting']\n",
        "\n",
        "for word in words:\n",
        "  print(word, ' | ',stemmer.stem(word))"
      ],
      "metadata": {
        "colab": {
          "base_uri": "https://localhost:8080/"
        },
        "id": "dFoCpYHCF0Rf",
        "outputId": "e4c90999-8407-4789-d82d-b54cbce4de06"
      },
      "execution_count": 6,
      "outputs": [
        {
          "output_type": "stream",
          "name": "stdout",
          "text": [
            "eating  |  eat\n",
            "eats  |  eat\n",
            "eat  |  eat\n",
            "ate  |  ate\n",
            "adjustable  |  adjust\n",
            "rafing  |  rafe\n",
            "ability  |  abil\n",
            "meeting  |  meet\n"
          ]
        }
      ]
    },
    {
      "cell_type": "code",
      "source": [
        "nlp = spacy.load('en_core_web_sm')\n",
        "\n",
        "doc = nlp('eating eats eat ate adjustable rafing ability meeting better')\n",
        "\n",
        "for word in doc:\n",
        "  print(word,' | ', word.lemma_,' | ', word.lemma)"
      ],
      "metadata": {
        "colab": {
          "base_uri": "https://localhost:8080/"
        },
        "id": "Itx7q3xyGGB3",
        "outputId": "2713c1c9-0af5-4d37-ecb2-64f917ff87fe"
      },
      "execution_count": 13,
      "outputs": [
        {
          "output_type": "stream",
          "name": "stdout",
          "text": [
            "eating  |  eat  |  9837207709914848172\n",
            "eats  |  eat  |  9837207709914848172\n",
            "eat  |  eat  |  9837207709914848172\n",
            "ate  |  eat  |  9837207709914848172\n",
            "adjustable  |  adjustable  |  6033511944150694480\n",
            "rafing  |  rafing  |  7039191750257992344\n",
            "ability  |  ability  |  11565809527369121409\n",
            "meeting  |  meeting  |  14798207169164081740\n",
            "better  |  well  |  4525988469032889948\n"
          ]
        }
      ]
    },
    {
      "cell_type": "code",
      "source": [
        "nlp.pipe_names"
      ],
      "metadata": {
        "colab": {
          "base_uri": "https://localhost:8080/"
        },
        "id": "4pp7Tq9tGpq_",
        "outputId": "30f45709-d752-4e15-e582-88e7fb3c4141"
      },
      "execution_count": 14,
      "outputs": [
        {
          "output_type": "execute_result",
          "data": {
            "text/plain": [
              "['tok2vec', 'tagger', 'parser', 'attribute_ruler', 'lemmatizer', 'ner']"
            ]
          },
          "metadata": {},
          "execution_count": 14
        }
      ]
    },
    {
      "cell_type": "code",
      "source": [],
      "metadata": {
        "id": "vMs9_pmKHKZQ"
      },
      "execution_count": null,
      "outputs": []
    }
  ]
}